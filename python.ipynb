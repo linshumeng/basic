{
 "cells": [
  {
   "attachments": {},
   "cell_type": "markdown",
   "metadata": {},
   "source": [
    "# how to use python"
   ]
  },
  {
   "attachments": {},
   "cell_type": "markdown",
   "metadata": {},
   "source": [
    "## 字符串"
   ]
  },
  {
   "attachments": {},
   "cell_type": "markdown",
   "metadata": {},
   "source": [
    "### 转义字符"
   ]
  },
  {
   "attachments": {},
   "cell_type": "markdown",
   "metadata": {},
   "source": [
    "在需要在字符中使用特殊字符时，python 用反斜杠 \\ 转义字符。"
   ]
  },
  {
   "attachments": {},
   "cell_type": "markdown",
   "metadata": {},
   "source": [
    "### Python 字符串格式化"
   ]
  },
  {
   "attachments": {},
   "cell_type": "markdown",
   "metadata": {},
   "source": [
    "最基本的用法是将一个值插入到一个有字符串格式符 %s 的字符串中。"
   ]
  },
  {
   "cell_type": "code",
   "execution_count": 31,
   "metadata": {},
   "outputs": [
    {
     "name": "stdout",
     "output_type": "stream",
     "text": [
      "My name is Zara and weight is 21 kg!\n"
     ]
    }
   ],
   "source": [
    "print(\"My name is %s and weight is %d kg!\" % ('Zara', 21) )"
   ]
  },
  {
   "attachments": {},
   "cell_type": "markdown",
   "metadata": {},
   "source": [
    "python 字符串格式化符号:\n",
    "\n",
    "- %s 格式化字符串\n",
    "- %d 格式化整数"
   ]
  },
  {
   "attachments": {},
   "cell_type": "markdown",
   "metadata": {},
   "source": [
    "### Python 的字符串内建函数"
   ]
  },
  {
   "attachments": {},
   "cell_type": "markdown",
   "metadata": {},
   "source": [
    "- string.join(seq) 以 string 作为分隔符，将 seq 中所有的元素(的字符串表示)合并为一个新的字符串\n",
    "- string.lstrip() 截掉 string 左边的空格\n",
    "- string.split(str=\"\", num=string.count(str)) 以 str 为分隔符切片 string，如果 num 有指定值，则仅分隔 num+1 个子字符串"
   ]
  },
  {
   "attachments": {},
   "cell_type": "markdown",
   "metadata": {},
   "source": [
    "#### join()"
   ]
  },
  {
   "attachments": {},
   "cell_type": "markdown",
   "metadata": {},
   "source": [
    "The `join()` method is used to form a string from substrings. The syntax of Python's join() method is:\n",
    "\n",
    "`<sep>.join(<iterable>)`\n",
    "\n",
    "- `<iterable>` is any Python iterable containing the substrings, say, a list or a tuple.\n",
    "- `<sep>` is the separator that you'd like to join the substrings on.\n",
    "\n",
    "`<sep>.join(<iterable>)` joins substrings in `<iterable>` using `<sep>` as the separator."
   ]
  },
  {
   "cell_type": "code",
   "execution_count": 35,
   "metadata": {},
   "outputs": [
    {
     "name": "stdout",
     "output_type": "stream",
     "text": [
      "Apples,  Oranges,  Pears,  Bananas,  Berries\n",
      "Apples___ Oranges___ Pears___ Bananas___ Berries\n"
     ]
    }
   ],
   "source": [
    "my_string = \"Apples, Oranges, Pears, Bananas, Berries\"\n",
    "my_list = my_string.split(\",\")\n",
    "print(\", \".join(my_list))\n",
    "print(\"___\".join(my_list))"
   ]
  },
  {
   "attachments": {},
   "cell_type": "markdown",
   "metadata": {},
   "source": [
    "#### split()"
   ]
  },
  {
   "attachments": {},
   "cell_type": "markdown",
   "metadata": {},
   "source": [
    "The `split()` method acts on a string and returns a list of substrings. The syntax is:\n",
    "\n",
    "`<string>.split(sep, maxsplit)`\n",
    "\n",
    "- sep is an optional argument. By default, this method splits strings on whitespaces.\n",
    "- maxsplit is an optional argument indicating the number of times you'd like to split <string>.\n",
    "- maxsplit has a default value of -1, which splits the string on all occurrences of sep.\n",
    "\n",
    "`<string>.split(sep, maxsplit)` splits `<string>` on the occurrence of sep, maxsplit number of times"
   ]
  },
  {
   "cell_type": "code",
   "execution_count": 33,
   "metadata": {},
   "outputs": [
    {
     "data": {
      "text/plain": [
       "['Apples', ' Oranges', ' Pears, Bananas, Berries']"
      ]
     },
     "execution_count": 33,
     "metadata": {},
     "output_type": "execute_result"
    }
   ],
   "source": [
    "my_string = \"Apples, Oranges, Pears, Bananas, Berries\"\n",
    "my_string.split(\",\", 2) # 以，为分隔符，只进行两次split"
   ]
  },
  {
   "attachments": {},
   "cell_type": "markdown",
   "metadata": {},
   "source": [
    "## 哈希表、映射、集合"
   ]
  },
  {
   "attachments": {},
   "cell_type": "markdown",
   "metadata": {},
   "source": [
    "### 哈希表 Hash table"
   ]
  },
  {
   "attachments": {},
   "cell_type": "markdown",
   "metadata": {},
   "source": [
    "#### 哈希碰撞\n",
    "- 开放寻址法：产生冲突后继续寻找下一个空闲的空间（没有被占用的存储地址），Python使用的就是这种方法。\n",
    "- 链地址法：散列到同一位置的元素，不继续往下寻找，而是将所有关键字为同义词的记录存储在同一线性链表中，HashMap就采用了链地址法。\n",
    "- 再散列函数法：产生冲突后，就再来一次哈希计算，直到没有冲突。\n",
    "- 建立一个公共溢出区：也就是建两个表，一个作为基本表，另一个是存储和基本表发生冲突元素的溢出表。"
   ]
  },
  {
   "attachments": {},
   "cell_type": "markdown",
   "metadata": {},
   "source": [
    "#### python字典"
   ]
  },
  {
   "attachments": {},
   "cell_type": "markdown",
   "metadata": {},
   "source": [
    "在 Python3.7+版本中，字典是有序的。"
   ]
  },
  {
   "cell_type": "code",
   "execution_count": 42,
   "metadata": {},
   "outputs": [
    {
     "name": "stdout",
     "output_type": "stream",
     "text": [
      "{1: 'apple', 2: 'banana', 3: 'orange'}\n",
      "[(1, 'apple'), (2, 'orange'), (3, 'banana')]\n",
      "[(3, 'banana'), (2, 'orange'), (1, 'apple')]\n"
     ]
    }
   ],
   "source": [
    "# 合并字典\n",
    "mydict1 = {1:\"apple\",2:\"banana\"}\n",
    "mydict2 = {3:\"orange\"}\n",
    "mydict1.update(mydict2)\n",
    "print(mydict1)\n",
    "\n",
    "# 字典排序\n",
    "mydict = {1:\"apple\",3:\"banana\",2:\"orange\"}\n",
    "print(sorted(mydict.items(), key=lambda x: x[0])) # 键，升序\n",
    "print(sorted(mydict.items(), key=lambda x: x[0], reverse=True)) # 键，降序"
   ]
  },
  {
   "attachments": {},
   "cell_type": "markdown",
   "metadata": {},
   "source": [
    "### 映射 Map"
   ]
  },
  {
   "attachments": {},
   "cell_type": "markdown",
   "metadata": {},
   "source": [
    "#### python 映射函数"
   ]
  },
  {
   "cell_type": "code",
   "execution_count": 49,
   "metadata": {},
   "outputs": [
    {
     "name": "stdout",
     "output_type": "stream",
     "text": [
      "[1, 4, 9, 16, 25]\n"
     ]
    }
   ],
   "source": [
    "# 创建映射\n",
    "res = map(lambda x: x ** 2, [1, 2, 3, 4, 5])\n",
    "print(list(res))"
   ]
  },
  {
   "attachments": {},
   "cell_type": "markdown",
   "metadata": {},
   "source": [
    "### 集合 Set"
   ]
  },
  {
   "attachments": {},
   "cell_type": "markdown",
   "metadata": {},
   "source": [
    "与列表(list)类似，但集合set没有重复元素，集合没有键和值的配对，是一系列无序的、唯一的元素组合。\n",
    "\n",
    "字典和集合的内部结构都是一张哈希表，字典存储了哈希值（hash）、键和值这 3 个元素，而集合的哈希表内没有键和值的配对，只有单一的元素。和列表不一样，集合不支持索引操作。"
   ]
  },
  {
   "attachments": {},
   "cell_type": "markdown",
   "metadata": {},
   "source": [
    "#### python 集合"
   ]
  },
  {
   "cell_type": "code",
   "execution_count": 51,
   "metadata": {},
   "outputs": [
    {
     "name": "stdout",
     "output_type": "stream",
     "text": [
      "{'banana', 'apple'}\n",
      "{'banana', 'orange', 'apple'}\n",
      "{'banana', 'apple'}\n"
     ]
    },
    {
     "data": {
      "text/plain": [
       "['apple', 'banana']"
      ]
     },
     "execution_count": 51,
     "metadata": {},
     "output_type": "execute_result"
    }
   ],
   "source": [
    "# 创建集合\n",
    "setA = {'apple', 'banana'}\n",
    "print(setA)\n",
    "\n",
    "# 增加元素\n",
    "setA.add(\"orange\")\n",
    "print(setA)\n",
    "\n",
    "# 删除元素\n",
    "setA.remove('orange')\n",
    "print(setA)\n",
    "\n",
    "# 集合排序\n",
    "sorted(setA)"
   ]
  },
  {
   "attachments": {},
   "cell_type": "markdown",
   "metadata": {},
   "source": [
    "## class"
   ]
  },
  {
   "attachments": {},
   "cell_type": "markdown",
   "metadata": {},
   "source": [
    "### 1. 类的定义和语法"
   ]
  },
  {
   "cell_type": "code",
   "execution_count": 8,
   "metadata": {},
   "outputs": [
    {
     "name": "stdout",
     "output_type": "stream",
     "text": [
      "hello, I am a dog, my name is AAA\n"
     ]
    }
   ],
   "source": [
    "class dog(object): # 用class定义类\n",
    "    \"dog class\" # 对类的说明\n",
    "    \n",
    "    def __init__(self, name): # 构造函数/构造方法/初始化方法\n",
    "        self.name = name # 属性/成员变量/字段\n",
    "\n",
    "    def sayhi(self): # 类方法/动态属性\n",
    "        \"sayhi function\" # 对类方法的说明\n",
    "        print(\"hello, I am a dog, my name is\", self.name)\n",
    "\n",
    "d = dog(\"AAA\") # 定义一个d的对象（实例）\n",
    "d.sayhi() # 调用实例的方法"
   ]
  },
  {
   "attachments": {},
   "cell_type": "markdown",
   "metadata": {},
   "source": [
    "### 2. self关键字"
   ]
  },
  {
   "attachments": {},
   "cell_type": "markdown",
   "metadata": {},
   "source": [
    "self相当于实例化对象本身d，在实例化过程中将自身传入\n",
    "\n",
    "`d = dog(d, \"AAA\")`"
   ]
  },
  {
   "attachments": {},
   "cell_type": "markdown",
   "metadata": {},
   "source": [
    "### 3. 函数__init__(), \\_\\_del__()"
   ]
  },
  {
   "attachments": {},
   "cell_type": "markdown",
   "metadata": {},
   "source": [
    "在类中__init__()函数叫构造函数，又叫构造方法，也可以叫初始化函数。它的作用就是初始化实例时，初始化传入实例的的默认值。\n",
    "\n",
    "在类中__del__()函数叫做析构函数，是在实例销毁的时候调用的函数。"
   ]
  },
  {
   "attachments": {},
   "cell_type": "markdown",
   "metadata": {},
   "source": [
    "### 4. 类的实例化过程图解"
   ]
  },
  {
   "attachments": {},
   "cell_type": "markdown",
   "metadata": {},
   "source": [
    "· 第一步：先申请一块空间，并命名实例\n",
    "\n",
    "· 第二步：将地址和赋值参数传给类\n",
    "\n",
    "· 第三步：生成实例"
   ]
  },
  {
   "attachments": {},
   "cell_type": "markdown",
   "metadata": {},
   "source": [
    "### 5. 访问类属性"
   ]
  },
  {
   "attachments": {},
   "cell_type": "markdown",
   "metadata": {},
   "source": [
    "### 6. 修改类属性"
   ]
  },
  {
   "cell_type": "code",
   "execution_count": 9,
   "metadata": {},
   "outputs": [
    {
     "name": "stdout",
     "output_type": "stream",
     "text": [
      "19\n",
      "20\n"
     ]
    }
   ],
   "source": [
    "class dog(object):\n",
    "    \"dog class\"\n",
    "    \n",
    "    def __init__(self, name, age):\n",
    "        self.name = name\n",
    "        self.age = age\n",
    "    \n",
    "    def sayhi(self, update_age):\n",
    "        self.age = update_age\n",
    "\n",
    "d = dog(\"AAA\", 18)\n",
    "d.sayhi(19) # 在类的方法中修改\n",
    "print(d.age)\n",
    "d.age = 20 # 在类外面修改\n",
    "print(d.age)"
   ]
  },
  {
   "attachments": {},
   "cell_type": "markdown",
   "metadata": {},
   "source": [
    "就是说在类的方法中或者类的外面都可以修改类的属性"
   ]
  },
  {
   "attachments": {},
   "cell_type": "markdown",
   "metadata": {},
   "source": [
    "### 7. 私有属性"
   ]
  },
  {
   "cell_type": "code",
   "execution_count": 13,
   "metadata": {},
   "outputs": [
    {
     "ename": "AttributeError",
     "evalue": "'dog' object has no attribute '__sex'",
     "output_type": "error",
     "traceback": [
      "\u001b[1;31m---------------------------------------------------------------------------\u001b[0m",
      "\u001b[1;31mAttributeError\u001b[0m                            Traceback (most recent call last)",
      "\u001b[1;32m~\\AppData\\Local\\Temp\\ipykernel_57748\\2029221078.py\u001b[0m in \u001b[0;36m<module>\u001b[1;34m\u001b[0m\n\u001b[0;32m     11\u001b[0m \u001b[1;33m\u001b[0m\u001b[0m\n\u001b[0;32m     12\u001b[0m \u001b[0md\u001b[0m \u001b[1;33m=\u001b[0m \u001b[0mdog\u001b[0m\u001b[1;33m(\u001b[0m\u001b[1;34m\"AAA\"\u001b[0m\u001b[1;33m,\u001b[0m \u001b[1;36m18\u001b[0m\u001b[1;33m)\u001b[0m\u001b[1;33m\u001b[0m\u001b[1;33m\u001b[0m\u001b[0m\n\u001b[1;32m---> 13\u001b[1;33m \u001b[0mprint\u001b[0m\u001b[1;33m(\u001b[0m\u001b[0md\u001b[0m\u001b[1;33m.\u001b[0m\u001b[0m__sex\u001b[0m\u001b[1;33m)\u001b[0m\u001b[1;33m\u001b[0m\u001b[1;33m\u001b[0m\u001b[0m\n\u001b[0m",
      "\u001b[1;31mAttributeError\u001b[0m: 'dog' object has no attribute '__sex'"
     ]
    }
   ],
   "source": [
    "class dog(object):\n",
    "    \"dog class\"\n",
    "    \n",
    "    def __init__(self, name, age):\n",
    "        self.name = name\n",
    "        self.age = age\n",
    "        self.__sex = \"male\" # 定义私有属性\n",
    "    \n",
    "    def sayhi(self, update_age):\n",
    "        self.age = update_age\n",
    "\n",
    "d = dog(\"AAA\", 18)\n",
    "print(d.__sex)"
   ]
  },
  {
   "attachments": {},
   "cell_type": "markdown",
   "metadata": {},
   "source": [
    "私有属性是不可以访问的，更不可以修改"
   ]
  },
  {
   "attachments": {},
   "cell_type": "markdown",
   "metadata": {},
   "source": [
    "#### 强制访问/修改私有属性"
   ]
  },
  {
   "cell_type": "code",
   "execution_count": 16,
   "metadata": {},
   "outputs": [
    {
     "name": "stdout",
     "output_type": "stream",
     "text": [
      "male\n",
      "female\n"
     ]
    }
   ],
   "source": [
    "class dog(object):\n",
    "    \"dog class\"\n",
    "    \n",
    "    def __init__(self, name, age):\n",
    "        self.name = name\n",
    "        self.age = age\n",
    "        self.__sex = \"male\" # 定义私有属性\n",
    "    \n",
    "    def sayhi(self, update_age):\n",
    "        self.age = update_age\n",
    "\n",
    "d = dog(\"AAA\", 18)\n",
    "print(d._dog__sex)\n",
    "d._dog__sex = 'female'\n",
    "print(d._dog__sex)"
   ]
  },
  {
   "attachments": {},
   "cell_type": "markdown",
   "metadata": {},
   "source": [
    "这种方法就更为暴力，可以访问也可以修改，就是：对象名._类名__属性名"
   ]
  },
  {
   "attachments": {},
   "cell_type": "markdown",
   "metadata": {},
   "source": [
    "#### get方法访问私有属性"
   ]
  },
  {
   "cell_type": "code",
   "execution_count": 14,
   "metadata": {},
   "outputs": [
    {
     "name": "stdout",
     "output_type": "stream",
     "text": [
      "male\n"
     ]
    }
   ],
   "source": [
    "class dog(object):\n",
    "    \"dog class\"\n",
    "    \n",
    "    def __init__(self, name, age):\n",
    "        self.name = name\n",
    "        self.age = age\n",
    "        self.__sex = \"male\"\n",
    "\n",
    "    def get_sex(self): # 定义get方法\n",
    "        return self.__sex # 返回\n",
    "\n",
    "d = dog(\"AAA\", 18)\n",
    "d_sex = d.get_sex()\n",
    "print(d_sex)"
   ]
  },
  {
   "attachments": {},
   "cell_type": "markdown",
   "metadata": {},
   "source": [
    "这种方法只能访问私有属性，但是不能更改私有属性"
   ]
  },
  {
   "attachments": {},
   "cell_type": "markdown",
   "metadata": {},
   "source": [
    "### 8. 公有属性"
   ]
  },
  {
   "attachments": {},
   "cell_type": "markdown",
   "metadata": {},
   "source": [
    "定义公有属性：在类中直接定义的，可以提供这个类所属的所有对象都可以访问的属性"
   ]
  },
  {
   "cell_type": "code",
   "execution_count": 17,
   "metadata": {},
   "outputs": [
    {
     "name": "stdout",
     "output_type": "stream",
     "text": [
      "US US\n"
     ]
    }
   ],
   "source": [
    "class dog(object):\n",
    "    \"dog class\"\n",
    "\n",
    "    nationality = \"US\"\n",
    "    \n",
    "    def __init__(self, name):\n",
    "        self.name = name\n",
    "\n",
    "d1 = dog(\"AAA\")\n",
    "d2 = dog(\"BBB\")\n",
    "print(d1.nationality, d2.nationality)"
   ]
  },
  {
   "attachments": {},
   "cell_type": "markdown",
   "metadata": {},
   "source": [
    "#### 访问/修改公有属性"
   ]
  },
  {
   "cell_type": "code",
   "execution_count": 19,
   "metadata": {},
   "outputs": [
    {
     "name": "stdout",
     "output_type": "stream",
     "text": [
      "CN\n"
     ]
    }
   ],
   "source": [
    "dog.nationality = \"CN\"\n",
    "print(dog.nationality)"
   ]
  },
  {
   "attachments": {},
   "cell_type": "markdown",
   "metadata": {},
   "source": [
    "公有属性不仅可以通过所属类的所有对象访问，还可以通过类本身直接访问和修改"
   ]
  },
  {
   "cell_type": "code",
   "execution_count": 21,
   "metadata": {},
   "outputs": [
    {
     "name": "stdout",
     "output_type": "stream",
     "text": [
      "US US\n",
      "CN US\n",
      "CN CN\n"
     ]
    }
   ],
   "source": [
    "class dog(object):\n",
    "    \"dog class\"\n",
    "\n",
    "    nationality = \"US\"\n",
    "    \n",
    "    def __init__(self, name):\n",
    "        self.name = name\n",
    "\n",
    "d1 = dog(\"AAA\")\n",
    "d2 = dog(\"BBB\")\n",
    "print(d1.nationality, d2.nationality)\n",
    "d1.nationality = \"CN\"\n",
    "print(d1.nationality, d2.nationality)\n",
    "dog.nationality = \"CN\"\n",
    "print(d1.nationality, d2.nationality)"
   ]
  },
  {
   "attachments": {},
   "cell_type": "markdown",
   "metadata": {},
   "source": [
    "对象d1去访问nationality属性时，如果在成员属性中找不到，就会找公共属性，也就是说自己的属性找不到就去找父亲的属性。\n",
    "\n",
    "d1.nationality=\"CN\" 相当于在自己对象内部又重新创建了一个新的局部变量，这个局部变量已经脱离了class本身。\n",
    "\n",
    "仔细观察我们通过类创建的实例修改的类属性后，通过其他实例访问类属性他的值还是没有改变。其实是通过实例修改类属性是给实例创建了一个与类属性同名的实例属性而已，实例属性访问优先级比类属性高，所以我们访问时优先访问实例属性，它将屏蔽掉对类属性的访问。"
   ]
  },
  {
   "attachments": {},
   "cell_type": "markdown",
   "metadata": {},
   "source": [
    "## other"
   ]
  },
  {
   "attachments": {},
   "cell_type": "markdown",
   "metadata": {},
   "source": [
    "### lambda"
   ]
  },
  {
   "attachments": {},
   "cell_type": "markdown",
   "metadata": {},
   "source": [
    "lambda函数没有名字，是一种简单的、在同一行中定义函数的方法。\n",
    "\n",
    "lambda函数一般功能简单：单行expression决定了lambda函数不可能完成复杂的逻辑，只能完成非常简单的功能。由于其实现的功能一目了然，甚至不需要专门的名字来说明。\n",
    "\n",
    "lambda 函数可以接收任意多个参数 (包括可选参数) 并且返回单个表达式的值。\n",
    "\n",
    "lambda表达式只允许包含一个表达式，不能包含复杂语句，该表达式的运算结果就是函数的返回值。\n",
    "\n",
    "形式 `lambda argument_list:expersion`"
   ]
  },
  {
   "cell_type": "code",
   "execution_count": 28,
   "metadata": {},
   "outputs": [
    {
     "name": "stdout",
     "output_type": "stream",
     "text": [
      "24\n",
      "[('a', 2), ('b', 3), ('c', 1), ('d', 4)]\n"
     ]
    }
   ],
   "source": [
    "# 直接赋给一个变量，然后再像一般函数那样调用\n",
    "c = lambda x, y, z: x * y * z\n",
    "print(c(2,3,4))\n",
    "\n",
    "# 将lambda函数作为参数传递给其他函数比如说结合map、filter、sorted、reduce等一些Python内置函数使用\n",
    "a=[('b', 3),('a', 2),('d', 4),('c', 1)]\n",
    "print(sorted(a,key=lambda x:x[0]))"
   ]
  },
  {
   "attachments": {},
   "cell_type": "markdown",
   "metadata": {},
   "source": [
    "### 排序"
   ]
  },
  {
   "cell_type": "code",
   "execution_count": null,
   "metadata": {},
   "outputs": [
    {
     "name": "stdout",
     "output_type": "stream",
     "text": [
      "[('i', 12), ('a', 24), ('k', 33), ('g', 52)]\n",
      "[{'name2': 'b', 'age': 30}, {'name3': 'c', 'age': 25}, {'name1': 'a', 'age': 20}]\n"
     ]
    }
   ],
   "source": [
    "# 将字典d按value的值进行排序\n",
    "d = {'a': 24, 'g': 52, 'i': 12, 'k': 33}\n",
    "b4 = sorted(d.items(), key=lambda x: x[1])\n",
    "print(b4) \n",
    "\n",
    "\"\"\"sorted(d.items(), key=lambda x: x[1])   中 d.items() 为待排序的对象；\n",
    "key=lambda x: x[1] 为对前面的对象中的第二维数据（即value）的值进行排序。 \n",
    "key=lambda  变量：变量[维数] 。维数可以按照自己的需要进行设置。\"\"\"\n",
    "\n",
    "# 将列表中的age由大到小排序\n",
    "alist = [{'name1': 'a', 'age': 20}, {'name2': 'b', 'age': 30}, {'name3': 'c', 'age': 25}]\n",
    "b = sorted(alist, key=lambda x: x['age'], reverse=True) # reverse 是否逆序\n",
    "print(b)"
   ]
  },
  {
   "attachments": {},
   "cell_type": "markdown",
   "metadata": {},
   "source": [
    "### collections"
   ]
  },
  {
   "attachments": {},
   "cell_type": "markdown",
   "metadata": {},
   "source": [
    "#### defaultdict"
   ]
  },
  {
   "attachments": {},
   "cell_type": "markdown",
   "metadata": {},
   "source": [
    "defaultdict 相比于 dict 的最大区别就是可以设置默认的数值，即便 key 不存在。"
   ]
  },
  {
   "cell_type": "code",
   "execution_count": 29,
   "metadata": {},
   "outputs": [
    {
     "name": "stdout",
     "output_type": "stream",
     "text": [
      "defaultdict(<class 'list'>, {'color': ['blue', 'orange', 'yellow'], 'fruit': ['banana', 'orange', 'banana']})\n"
     ]
    }
   ],
   "source": [
    "from collections import defaultdict\n",
    "s = [('color', 'blue'), ('color', 'orange'), ('color', 'yellow'), ('fruit', 'banana'), ('fruit', 'orange'),\n",
    "     ('fruit', 'banana')]\n",
    "d = defaultdict(list)\n",
    "for k, v in s:\n",
    "    d[k].append(v)\n",
    "print(d) "
   ]
  },
  {
   "cell_type": "code",
   "execution_count": 30,
   "metadata": {},
   "outputs": [
    {
     "name": "stdout",
     "output_type": "stream",
     "text": [
      "defaultdict(<class 'set'>, {'color': {'blue', 'yellow', 'orange'}, 'fruit': {'banana', 'orange'}})\n"
     ]
    }
   ],
   "source": [
    "s = [('color', 'blue'), ('color', 'orange'), ('color', 'yellow'), ('fruit', 'banana'), ('fruit', 'orange'),\n",
    "     ('fruit', 'banana')]\n",
    "d = defaultdict(set)\n",
    "for k, v in s:\n",
    "    d[k].add(v)\n",
    "print(d)"
   ]
  },
  {
   "attachments": {},
   "cell_type": "markdown",
   "metadata": {},
   "source": [
    "#### deque"
   ]
  },
  {
   "attachments": {},
   "cell_type": "markdown",
   "metadata": {},
   "source": [
    "deque当中最常用也是最核心的api还有append、pop、appendleft和popleft。从名字上我们就看得出来，append和pop和list的append和pop一样，而appendleft和popleft则是在队列左侧，也就是头部进行pop和append的操作。"
   ]
  },
  {
   "attachments": {},
   "cell_type": "markdown",
   "metadata": {},
   "source": [
    "### \":\""
   ]
  },
  {
   "attachments": {},
   "cell_type": "markdown",
   "metadata": {},
   "source": [
    "冒号（：）表示的就是一个整体，冒号出现在哪里就代表这个位置对整体。\n",
    "\n",
    "双冒号：\n",
    "\n",
    "- `a[::2]`将 a 中的元素两个两个分组并取每组中第一个出来，也可以理解为每 2 个数中取一个。\n",
    "\n",
    "- `a[::3]`将 a 中的元素三个三个分组并取每组中第一个出来。\n",
    "\n",
    "- `a[::-2]`将 a 中元素倒序后两个两个分组并取每组中第一个出来。"
   ]
  },
  {
   "cell_type": "code",
   "execution_count": 2,
   "metadata": {},
   "outputs": [
    {
     "name": "stdout",
     "output_type": "stream",
     "text": [
      "[0 1 2 3 4 5 6 7 8]\n"
     ]
    }
   ],
   "source": [
    "import numpy as np\n",
    "a = np.arange(0, 9)\n",
    "print(a)"
   ]
  },
  {
   "cell_type": "code",
   "execution_count": 3,
   "metadata": {},
   "outputs": [
    {
     "name": "stdout",
     "output_type": "stream",
     "text": [
      "[0 2 4 6 8]\n"
     ]
    }
   ],
   "source": [
    "print(a[::2])"
   ]
  },
  {
   "cell_type": "code",
   "execution_count": 5,
   "metadata": {},
   "outputs": [
    {
     "name": "stdout",
     "output_type": "stream",
     "text": [
      "[0 3 6]\n"
     ]
    }
   ],
   "source": [
    "print(a[::3])"
   ]
  },
  {
   "cell_type": "code",
   "execution_count": 6,
   "metadata": {},
   "outputs": [
    {
     "name": "stdout",
     "output_type": "stream",
     "text": [
      "[8 7 6 5 4 3 2 1 0]\n"
     ]
    }
   ],
   "source": [
    "print(a[::-1])"
   ]
  },
  {
   "attachments": {},
   "cell_type": "markdown",
   "metadata": {},
   "source": [
    "Ref:\n",
    "\n",
    "[Python 字符串](https://www.runoob.com/python/python-strings.html)\n",
    "\n",
    "[Python String split() and join() Methods – Explained with Examples](https://www.freecodecamp.org/news/python-string-split-and-join-methods-explained-with-examples/)\n",
    "\n",
    "[算法笔记：哈希表、映射和集合](https://hiyongz.github.io/posts/algorithm-notes-for-hash-table/)\n",
    "\n",
    "[python--类的实例化](https://www.cnblogs.com/doumingyi/p/12469120.html)\n",
    "\n",
    "[Python入门 类class 基础篇](https://zhuanlan.zhihu.com/p/30024792)\n",
    "\n",
    "[细说Python的lambda函数用法，建议收藏](https://zhuanlan.zhihu.com/p/80960485)\n",
    "\n",
    "[Python中的排序sorted(d.items(), key=lambda x: x[1])](https://www.cnblogs.com/lyj0123/p/13431972.html)\n",
    "\n",
    "[[Python技巧]是时候用 defaultdict 和 Counter 代替 dictionary 了](https://cloud.tencent.com/developer/article/1488546)\n",
    "\n",
    "[Python——详解collections工具库](https://zhuanlan.zhihu.com/p/110476502)\n",
    "\n",
    "[python 中冒号（：）的作用](https://blog.csdn.net/weixin_46813313/article/details/113696218)"
   ]
  }
 ],
 "metadata": {
  "kernelspec": {
   "display_name": "pytorch_cpu",
   "language": "python",
   "name": "python3"
  },
  "language_info": {
   "codemirror_mode": {
    "name": "ipython",
    "version": 3
   },
   "file_extension": ".py",
   "mimetype": "text/x-python",
   "name": "python",
   "nbconvert_exporter": "python",
   "pygments_lexer": "ipython3",
   "version": "3.7.15"
  },
  "orig_nbformat": 4
 },
 "nbformat": 4,
 "nbformat_minor": 2
}
