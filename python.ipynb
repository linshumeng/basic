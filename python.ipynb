{
 "cells": [
  {
   "attachments": {},
   "cell_type": "markdown",
   "metadata": {},
   "source": [
    "# how to use python"
   ]
  },
  {
   "attachments": {},
   "cell_type": "markdown",
   "metadata": {},
   "source": [
    "## 哈希表"
   ]
  },
  {
   "attachments": {},
   "cell_type": "markdown",
   "metadata": {},
   "source": [
    "### 排序"
   ]
  },
  {
   "cell_type": "code",
   "execution_count": 25,
   "metadata": {},
   "outputs": [
    {
     "name": "stdout",
     "output_type": "stream",
     "text": [
      "[('i', 12), ('a', 24), ('k', 33), ('g', 52)]\n",
      "[{'name2': 'b', 'age': 30}, {'name3': 'c', 'age': 25}, {'name1': 'a', 'age': 20}]\n"
     ]
    }
   ],
   "source": [
    "# 将字典d按value的值进行排序\n",
    "d = {'a': 24, 'g': 52, 'i': 12, 'k': 33}\n",
    "b4 = sorted(d.items(), key=lambda x: x[1])\n",
    "print(b4) \n",
    "\n",
    "\"\"\"sorted(d.items(), key=lambda x: x[1])   中 d.items() 为待排序的对象；\n",
    "key=lambda x: x[1] 为对前面的对象中的第二维数据（即value）的值进行排序。 \n",
    "key=lambda  变量：变量[维数] 。维数可以按照自己的需要进行设置。\"\"\"\n",
    "\n",
    "# 将列表中的age由大到小排序\n",
    "alist = [{'name1': 'a', 'age': 20}, {'name2': 'b', 'age': 30}, {'name3': 'c', 'age': 25}]\n",
    "b = sorted(alist, key=lambda x: x['age'], reverse=True) # reverse 是否逆序\n",
    "print(b)"
   ]
  },
  {
   "attachments": {},
   "cell_type": "markdown",
   "metadata": {},
   "source": [
    "## class"
   ]
  },
  {
   "attachments": {},
   "cell_type": "markdown",
   "metadata": {},
   "source": [
    "### 1. 类的定义和语法"
   ]
  },
  {
   "cell_type": "code",
   "execution_count": 8,
   "metadata": {},
   "outputs": [
    {
     "name": "stdout",
     "output_type": "stream",
     "text": [
      "hello, I am a dog, my name is AAA\n"
     ]
    }
   ],
   "source": [
    "class dog(object): # 用class定义类\n",
    "    \"dog class\" # 对类的说明\n",
    "    \n",
    "    def __init__(self, name): # 构造函数/构造方法/初始化方法\n",
    "        self.name = name # 属性/成员变量/字段\n",
    "\n",
    "    def sayhi(self): # 类方法/动态属性\n",
    "        \"sayhi function\" # 对类方法的说明\n",
    "        print(\"hello, I am a dog, my name is\", self.name)\n",
    "\n",
    "d = dog(\"AAA\") # 定义一个d的对象（实例）\n",
    "d.sayhi() # 调用实例的方法"
   ]
  },
  {
   "attachments": {},
   "cell_type": "markdown",
   "metadata": {},
   "source": [
    "### 2. self关键字"
   ]
  },
  {
   "attachments": {},
   "cell_type": "markdown",
   "metadata": {},
   "source": [
    "self相当于实例化对象本身d，在实例化过程中将自身传入\n",
    "\n",
    "`d = dog(d, \"AAA\")`"
   ]
  },
  {
   "attachments": {},
   "cell_type": "markdown",
   "metadata": {},
   "source": [
    "### 3. 函数__init__(), \\_\\_del__()"
   ]
  },
  {
   "attachments": {},
   "cell_type": "markdown",
   "metadata": {},
   "source": [
    "在类中__init__()函数叫构造函数，又叫构造方法，也可以叫初始化函数。它的作用就是初始化实例时，初始化传入实例的的默认值。\n",
    "\n",
    "在类中__del__()函数叫做析构函数，是在实例销毁的时候调用的函数。"
   ]
  },
  {
   "attachments": {},
   "cell_type": "markdown",
   "metadata": {},
   "source": [
    "### 4. 类的实例化过程图解"
   ]
  },
  {
   "attachments": {},
   "cell_type": "markdown",
   "metadata": {},
   "source": [
    "· 第一步：先申请一块空间，并命名实例\n",
    "\n",
    "· 第二步：将地址和赋值参数传给类\n",
    "\n",
    "· 第三步：生成实例"
   ]
  },
  {
   "attachments": {},
   "cell_type": "markdown",
   "metadata": {},
   "source": [
    "### 5. 访问类属性"
   ]
  },
  {
   "attachments": {},
   "cell_type": "markdown",
   "metadata": {},
   "source": [
    "### 6. 修改类属性"
   ]
  },
  {
   "cell_type": "code",
   "execution_count": 9,
   "metadata": {},
   "outputs": [
    {
     "name": "stdout",
     "output_type": "stream",
     "text": [
      "19\n",
      "20\n"
     ]
    }
   ],
   "source": [
    "class dog(object):\n",
    "    \"dog class\"\n",
    "    \n",
    "    def __init__(self, name, age):\n",
    "        self.name = name\n",
    "        self.age = age\n",
    "    \n",
    "    def sayhi(self, update_age):\n",
    "        self.age = update_age\n",
    "\n",
    "d = dog(\"AAA\", 18)\n",
    "d.sayhi(19) # 在类的方法中修改\n",
    "print(d.age)\n",
    "d.age = 20 # 在类外面修改\n",
    "print(d.age)"
   ]
  },
  {
   "attachments": {},
   "cell_type": "markdown",
   "metadata": {},
   "source": [
    "就是说在类的方法中或者类的外面都可以修改类的属性"
   ]
  },
  {
   "attachments": {},
   "cell_type": "markdown",
   "metadata": {},
   "source": [
    "### 7. 私有属性"
   ]
  },
  {
   "cell_type": "code",
   "execution_count": 13,
   "metadata": {},
   "outputs": [
    {
     "ename": "AttributeError",
     "evalue": "'dog' object has no attribute '__sex'",
     "output_type": "error",
     "traceback": [
      "\u001b[1;31m---------------------------------------------------------------------------\u001b[0m",
      "\u001b[1;31mAttributeError\u001b[0m                            Traceback (most recent call last)",
      "\u001b[1;32m~\\AppData\\Local\\Temp\\ipykernel_57748\\2029221078.py\u001b[0m in \u001b[0;36m<module>\u001b[1;34m\u001b[0m\n\u001b[0;32m     11\u001b[0m \u001b[1;33m\u001b[0m\u001b[0m\n\u001b[0;32m     12\u001b[0m \u001b[0md\u001b[0m \u001b[1;33m=\u001b[0m \u001b[0mdog\u001b[0m\u001b[1;33m(\u001b[0m\u001b[1;34m\"AAA\"\u001b[0m\u001b[1;33m,\u001b[0m \u001b[1;36m18\u001b[0m\u001b[1;33m)\u001b[0m\u001b[1;33m\u001b[0m\u001b[1;33m\u001b[0m\u001b[0m\n\u001b[1;32m---> 13\u001b[1;33m \u001b[0mprint\u001b[0m\u001b[1;33m(\u001b[0m\u001b[0md\u001b[0m\u001b[1;33m.\u001b[0m\u001b[0m__sex\u001b[0m\u001b[1;33m)\u001b[0m\u001b[1;33m\u001b[0m\u001b[1;33m\u001b[0m\u001b[0m\n\u001b[0m",
      "\u001b[1;31mAttributeError\u001b[0m: 'dog' object has no attribute '__sex'"
     ]
    }
   ],
   "source": [
    "class dog(object):\n",
    "    \"dog class\"\n",
    "    \n",
    "    def __init__(self, name, age):\n",
    "        self.name = name\n",
    "        self.age = age\n",
    "        self.__sex = \"male\" # 定义私有属性\n",
    "    \n",
    "    def sayhi(self, update_age):\n",
    "        self.age = update_age\n",
    "\n",
    "d = dog(\"AAA\", 18)\n",
    "print(d.__sex)"
   ]
  },
  {
   "attachments": {},
   "cell_type": "markdown",
   "metadata": {},
   "source": [
    "私有属性是不可以访问的，更不可以修改"
   ]
  },
  {
   "attachments": {},
   "cell_type": "markdown",
   "metadata": {},
   "source": [
    "#### 强制访问/修改私有属性"
   ]
  },
  {
   "cell_type": "code",
   "execution_count": 16,
   "metadata": {},
   "outputs": [
    {
     "name": "stdout",
     "output_type": "stream",
     "text": [
      "male\n",
      "female\n"
     ]
    }
   ],
   "source": [
    "class dog(object):\n",
    "    \"dog class\"\n",
    "    \n",
    "    def __init__(self, name, age):\n",
    "        self.name = name\n",
    "        self.age = age\n",
    "        self.__sex = \"male\" # 定义私有属性\n",
    "    \n",
    "    def sayhi(self, update_age):\n",
    "        self.age = update_age\n",
    "\n",
    "d = dog(\"AAA\", 18)\n",
    "print(d._dog__sex)\n",
    "d._dog__sex = 'female'\n",
    "print(d._dog__sex)"
   ]
  },
  {
   "attachments": {},
   "cell_type": "markdown",
   "metadata": {},
   "source": [
    "这种方法就更为暴力，可以访问也可以修改，就是：对象名._类名__属性名"
   ]
  },
  {
   "attachments": {},
   "cell_type": "markdown",
   "metadata": {},
   "source": [
    "#### get方法访问私有属性"
   ]
  },
  {
   "cell_type": "code",
   "execution_count": 14,
   "metadata": {},
   "outputs": [
    {
     "name": "stdout",
     "output_type": "stream",
     "text": [
      "male\n"
     ]
    }
   ],
   "source": [
    "class dog(object):\n",
    "    \"dog class\"\n",
    "    \n",
    "    def __init__(self, name, age):\n",
    "        self.name = name\n",
    "        self.age = age\n",
    "        self.__sex = \"male\"\n",
    "\n",
    "    def get_sex(self): # 定义get方法\n",
    "        return self.__sex # 返回\n",
    "\n",
    "d = dog(\"AAA\", 18)\n",
    "d_sex = d.get_sex()\n",
    "print(d_sex)"
   ]
  },
  {
   "attachments": {},
   "cell_type": "markdown",
   "metadata": {},
   "source": [
    "这种方法只能访问私有属性，但是不能更改私有属性"
   ]
  },
  {
   "attachments": {},
   "cell_type": "markdown",
   "metadata": {},
   "source": [
    "### 8. 公有属性"
   ]
  },
  {
   "attachments": {},
   "cell_type": "markdown",
   "metadata": {},
   "source": [
    "定义公有属性：在类中直接定义的，可以提供这个类所属的所有对象都可以访问的属性"
   ]
  },
  {
   "cell_type": "code",
   "execution_count": 17,
   "metadata": {},
   "outputs": [
    {
     "name": "stdout",
     "output_type": "stream",
     "text": [
      "US US\n"
     ]
    }
   ],
   "source": [
    "class dog(object):\n",
    "    \"dog class\"\n",
    "\n",
    "    nationality = \"US\"\n",
    "    \n",
    "    def __init__(self, name):\n",
    "        self.name = name\n",
    "\n",
    "d1 = dog(\"AAA\")\n",
    "d2 = dog(\"BBB\")\n",
    "print(d1.nationality, d2.nationality)"
   ]
  },
  {
   "attachments": {},
   "cell_type": "markdown",
   "metadata": {},
   "source": [
    "#### 访问/修改公有属性"
   ]
  },
  {
   "cell_type": "code",
   "execution_count": 19,
   "metadata": {},
   "outputs": [
    {
     "name": "stdout",
     "output_type": "stream",
     "text": [
      "CN\n"
     ]
    }
   ],
   "source": [
    "dog.nationality = \"CN\"\n",
    "print(dog.nationality)"
   ]
  },
  {
   "attachments": {},
   "cell_type": "markdown",
   "metadata": {},
   "source": [
    "公有属性不仅可以通过所属类的所有对象访问，还可以通过类本身直接访问和修改"
   ]
  },
  {
   "cell_type": "code",
   "execution_count": 21,
   "metadata": {},
   "outputs": [
    {
     "name": "stdout",
     "output_type": "stream",
     "text": [
      "US US\n",
      "CN US\n",
      "CN CN\n"
     ]
    }
   ],
   "source": [
    "class dog(object):\n",
    "    \"dog class\"\n",
    "\n",
    "    nationality = \"US\"\n",
    "    \n",
    "    def __init__(self, name):\n",
    "        self.name = name\n",
    "\n",
    "d1 = dog(\"AAA\")\n",
    "d2 = dog(\"BBB\")\n",
    "print(d1.nationality, d2.nationality)\n",
    "d1.nationality = \"CN\"\n",
    "print(d1.nationality, d2.nationality)\n",
    "dog.nationality = \"CN\"\n",
    "print(d1.nationality, d2.nationality)"
   ]
  },
  {
   "attachments": {},
   "cell_type": "markdown",
   "metadata": {},
   "source": [
    "对象d1去访问nationality属性时，如果在成员属性中找不到，就会找公共属性，也就是说自己的属性找不到就去找父亲的属性。\n",
    "\n",
    "d1.nationality=\"CN\" 相当于在自己对象内部又重新创建了一个新的局部变量，这个局部变量已经脱离了class本身。\n",
    "\n",
    "仔细观察我们通过类创建的实例修改的类属性后，通过其他实例访问类属性他的值还是没有改变。其实是通过实例修改类属性是给实例创建了一个与类属性同名的实例属性而已，实例属性访问优先级比类属性高，所以我们访问时优先访问实例属性，它将屏蔽掉对类属性的访问。"
   ]
  },
  {
   "attachments": {},
   "cell_type": "markdown",
   "metadata": {},
   "source": [
    "## other"
   ]
  },
  {
   "attachments": {},
   "cell_type": "markdown",
   "metadata": {},
   "source": [
    "### \":\""
   ]
  },
  {
   "attachments": {},
   "cell_type": "markdown",
   "metadata": {},
   "source": [
    "冒号（：）表示的就是一个整体，冒号出现在哪里就代表这个位置对整体。\n",
    "\n",
    "双冒号：\n",
    "\n",
    "- `a[::2]`将 a 中的元素两个两个分组并取每组中第一个出来，也可以理解为每 2 个数中取一个。\n",
    "\n",
    "- `a[::3]`将 a 中的元素三个三个分组并取每组中第一个出来。\n",
    "\n",
    "- `a[::-2]`将 a 中元素倒序后两个两个分组并取每组中第一个出来。"
   ]
  },
  {
   "cell_type": "code",
   "execution_count": 2,
   "metadata": {},
   "outputs": [
    {
     "name": "stdout",
     "output_type": "stream",
     "text": [
      "[0 1 2 3 4 5 6 7 8]\n"
     ]
    }
   ],
   "source": [
    "import numpy as np\n",
    "a = np.arange(0, 9)\n",
    "print(a)"
   ]
  },
  {
   "cell_type": "code",
   "execution_count": 3,
   "metadata": {},
   "outputs": [
    {
     "name": "stdout",
     "output_type": "stream",
     "text": [
      "[0 2 4 6 8]\n"
     ]
    }
   ],
   "source": [
    "print(a[::2])"
   ]
  },
  {
   "cell_type": "code",
   "execution_count": 5,
   "metadata": {},
   "outputs": [
    {
     "name": "stdout",
     "output_type": "stream",
     "text": [
      "[0 3 6]\n"
     ]
    }
   ],
   "source": [
    "print(a[::3])"
   ]
  },
  {
   "cell_type": "code",
   "execution_count": 6,
   "metadata": {},
   "outputs": [
    {
     "name": "stdout",
     "output_type": "stream",
     "text": [
      "[8 7 6 5 4 3 2 1 0]\n"
     ]
    }
   ],
   "source": [
    "print(a[::-1])"
   ]
  },
  {
   "attachments": {},
   "cell_type": "markdown",
   "metadata": {},
   "source": [
    "Ref:\n",
    "\n",
    "[Python中的排序sorted(d.items(), key=lambda x: x[1])](https://www.cnblogs.com/lyj0123/p/13431972.html)\n",
    "\n",
    "[python--类的实例化](https://www.cnblogs.com/doumingyi/p/12469120.html)\n",
    "\n",
    "[Python入门 类class 基础篇](https://zhuanlan.zhihu.com/p/30024792)\n",
    "\n",
    "[python 中冒号（：）的作用](https://blog.csdn.net/weixin_46813313/article/details/113696218)"
   ]
  },
  {
   "cell_type": "markdown",
   "metadata": {},
   "source": []
  }
 ],
 "metadata": {
  "kernelspec": {
   "display_name": "pytorch_cpu",
   "language": "python",
   "name": "python3"
  },
  "language_info": {
   "codemirror_mode": {
    "name": "ipython",
    "version": 3
   },
   "file_extension": ".py",
   "mimetype": "text/x-python",
   "name": "python",
   "nbconvert_exporter": "python",
   "pygments_lexer": "ipython3",
   "version": "3.7.15"
  },
  "orig_nbformat": 4
 },
 "nbformat": 4,
 "nbformat_minor": 2
}
